{
 "cells": [
  {
   "cell_type": "markdown",
   "metadata": {},
   "source": [
    "1) El usuario ingrese dos valores para sumar todos los números entre ellos en una GUI.\n",
    "2) La GUI se comunique con un coordinador centralizado que reparta la carga de trabajo entre unidades de cómputo secundarios.\n",
    "3) No se permite multiplicar, solo sumar, y cada suma debe demorar 1 segundo.\n",
    "4) Ni la GUI y ni el coordinador saben sumar.\n",
    "5) Requiere N computadores, uno para GUI, uno para el coordinador y uno para cada esclavo.\n",
    "6) Su lenguaje de programación debe ser capaz de soportar comunicación entre programas que se ejecutan en distintos computadores (TCP/IP, interfaz de sockets, etc)."
   ]
  },
  {
   "cell_type": "markdown",
   "metadata": {},
   "source": [
    "$$\n",
    "\\frac{\\text{Numero de cifras}}{\\text{Numero de nodos}} =\\text{Tiempo total}\n",
    "$$"
   ]
  },
  {
   "cell_type": "code",
   "execution_count": null,
   "metadata": {},
   "outputs": [],
   "source": [
    "import requests\n",
    "import json"
   ]
  },
  {
   "cell_type": "code",
   "execution_count": 21,
   "metadata": {},
   "outputs": [
    {
     "name": "stdout",
     "output_type": "stream",
     "text": [
      "38\n"
     ]
    }
   ],
   "source": [
    "valor_inicial = 1000\n",
    "valor_final = 1600\n",
    "total_valores = valor_final - valor_inicial\n",
    "total_nodos = 16\n",
    "steps = int(total_valores/total_nodos + 1) # redondear hacia arriba\n",
    "print(steps)\n",
    "\n",
    "lista = list(range(valor_inicial, valor_final, steps))"
   ]
  },
  {
   "cell_type": "code",
   "execution_count": 24,
   "metadata": {},
   "outputs": [
    {
     "name": "stdout",
     "output_type": "stream",
     "text": [
      "38703\n",
      "40147\n",
      "41591\n",
      "43035\n",
      "44479\n",
      "45923\n",
      "47367\n",
      "48811\n",
      "50255\n",
      "51699\n",
      "53143\n",
      "54587\n",
      "56031\n",
      "57475\n",
      "58919\n",
      "49135\n"
     ]
    }
   ],
   "source": [
    "import numpy as np\n",
    "for i in range(1,17):\n",
    "    if i == 16:\n",
    "        print(np.sum(range(lista[15],valor_final+1)))\n",
    "    else:\n",
    "        print(np.sum(range(lista[i-1],lista[i])))\n",
    "        #req = request.post('localhost:4000', # inicial = lista[15], final = valor_final\n",
    "    #req = request.post('localhost:4000', # inicial = lista[i-1], final = lista[i] - 1\n",
    "\n",
    "\n",
    "#resultados = resultados.append(request.post('localhost:4000',{val})\n",
    "#for resultado in resultados:\n",
    "    #for i in range(16)\n",
    "\n",
    "    "
   ]
  },
  {
   "cell_type": "code",
   "execution_count": null,
   "metadata": {},
   "outputs": [],
   "source": []
  }
 ],
 "metadata": {
  "interpreter": {
   "hash": "1d76bb280da093bf7260b592363b449b8d54408228f36ce25dff58a9f746dd21"
  },
  "kernelspec": {
   "display_name": "Python 3.9.1 64-bit",
   "language": "python",
   "name": "python3"
  },
  "language_info": {
   "codemirror_mode": {
    "name": "ipython",
    "version": 3
   },
   "file_extension": ".py",
   "mimetype": "text/x-python",
   "name": "python",
   "nbconvert_exporter": "python",
   "pygments_lexer": "ipython3",
   "version": "3.9.1"
  },
  "orig_nbformat": 4
 },
 "nbformat": 4,
 "nbformat_minor": 2
}
