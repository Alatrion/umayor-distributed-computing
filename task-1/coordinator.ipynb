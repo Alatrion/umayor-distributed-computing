{
 "cells": [
  {
   "cell_type": "markdown",
   "metadata": {},
   "source": [
    "1) El usuario ingrese dos valores para sumar todos los números entre ellos en una GUI.\n",
    "2) La GUI se comunique con un coordinador centralizado que reparta la carga de trabajo entre unidades de cómputo secundarios.\n",
    "3) No se permite multiplicar, solo sumar, y cada suma debe demorar 1 segundo.\n",
    "4) Ni la GUI y ni el coordinador saben sumar.\n",
    "5) Requiere N computadores, uno para GUI, uno para el coordinador y uno para cada esclavo.\n",
    "6) Su lenguaje de programación debe ser capaz de soportar comunicación entre programas que se ejecutan en distintos computadores (TCP/IP, interfaz de sockets, etc)."
   ]
  },
  {
   "cell_type": "markdown",
   "metadata": {},
   "source": [
    "$$\n",
    "\\frac{\\text{Numero de cifras}}{\\text{Numero de nodos}} =\\text{Tiempo total}\n",
    "$$"
   ]
  },
  {
   "cell_type": "code",
   "execution_count": 1,
   "metadata": {},
   "outputs": [],
   "source": [
    "import requests\n",
    "import json\n",
    "import math"
   ]
  },
  {
   "cell_type": "code",
   "execution_count": 2,
   "metadata": {},
   "outputs": [
    {
     "name": "stdout",
     "output_type": "stream",
     "text": [
      "2\n"
     ]
    }
   ],
   "source": [
    "valor_inicial = 1\n",
    "valor_final = 32\n",
    "total_valores = valor_final - valor_inicial\n",
    "total_nodos = 16\n",
    "steps = math.ceil(total_valores/total_nodos) # redondear hacia arriba\n",
    "print(steps)\n",
    "\n",
    "lista = list(range(valor_inicial, valor_final, steps))"
   ]
  },
  {
   "cell_type": "code",
   "execution_count": 3,
   "metadata": {},
   "outputs": [
    {
     "data": {
      "text/plain": [
       "[1, 3, 5, 7, 9, 11, 13, 15, 17, 19, 21, 23, 25, 27, 29, 31]"
      ]
     },
     "execution_count": 3,
     "metadata": {},
     "output_type": "execute_result"
    }
   ],
   "source": [
    "lista"
   ]
  },
  {
   "cell_type": "code",
   "execution_count": 14,
   "metadata": {},
   "outputs": [
    {
     "ename": "RuntimeError",
     "evalue": "asyncio.run() cannot be called from a running event loop",
     "output_type": "error",
     "traceback": [
      "\u001b[1;31m---------------------------------------------------------------------------\u001b[0m",
      "\u001b[1;31mRuntimeError\u001b[0m                              Traceback (most recent call last)",
      "\u001b[1;32m<ipython-input-14-8a98a135d2e0>\u001b[0m in \u001b[0;36m<module>\u001b[1;34m\u001b[0m\n\u001b[0;32m     15\u001b[0m         \u001b[1;32mreturn\u001b[0m \u001b[0mresults\u001b[0m\u001b[1;33m\u001b[0m\u001b[1;33m\u001b[0m\u001b[0m\n\u001b[0;32m     16\u001b[0m \u001b[1;33m\u001b[0m\u001b[0m\n\u001b[1;32m---> 17\u001b[1;33m \u001b[0masyncio\u001b[0m\u001b[1;33m.\u001b[0m\u001b[0mrun\u001b[0m\u001b[1;33m(\u001b[0m\u001b[0mget_values\u001b[0m\u001b[1;33m(\u001b[0m\u001b[1;33m)\u001b[0m\u001b[1;33m)\u001b[0m\u001b[1;33m\u001b[0m\u001b[1;33m\u001b[0m\u001b[0m\n\u001b[0m",
      "\u001b[1;32m~\\AppData\\Local\\Programs\\Python\\Python39\\lib\\asyncio\\runners.py\u001b[0m in \u001b[0;36mrun\u001b[1;34m(main, debug)\u001b[0m\n\u001b[0;32m     31\u001b[0m     \"\"\"\n\u001b[0;32m     32\u001b[0m     \u001b[1;32mif\u001b[0m \u001b[0mevents\u001b[0m\u001b[1;33m.\u001b[0m\u001b[0m_get_running_loop\u001b[0m\u001b[1;33m(\u001b[0m\u001b[1;33m)\u001b[0m \u001b[1;32mis\u001b[0m \u001b[1;32mnot\u001b[0m \u001b[1;32mNone\u001b[0m\u001b[1;33m:\u001b[0m\u001b[1;33m\u001b[0m\u001b[1;33m\u001b[0m\u001b[0m\n\u001b[1;32m---> 33\u001b[1;33m         raise RuntimeError(\n\u001b[0m\u001b[0;32m     34\u001b[0m             \"asyncio.run() cannot be called from a running event loop\")\n\u001b[0;32m     35\u001b[0m \u001b[1;33m\u001b[0m\u001b[0m\n",
      "\u001b[1;31mRuntimeError\u001b[0m: asyncio.run() cannot be called from a running event loop"
     ]
    }
   ],
   "source": [
    "import aiohttp\n",
    "import asyncio\n",
    "\n",
    "ran = list(range(1,total_nodos))\n",
    "ran.append(total_nodos)\n",
    "results = []\n",
    "\n",
    "async def get_values():\n",
    "    async with aiohttp.ClientSession() as session:\n",
    "        for i in ran:\n",
    "            print(i)\n",
    "            async with session.post('http://localhost:3000/sum-range',\n",
    "                            {'starting_number': str(lista[i-1]), 'ending_number': str(lista[i])}) as resp:\n",
    "                results.append(await resp.json())\n",
    "        return results\n",
    "\n",
    "asyncio.run(get_values())\n"
   ]
  },
  {
   "cell_type": "code",
   "execution_count": 9,
   "metadata": {},
   "outputs": [
    {
     "data": {
      "text/plain": [
       "[3, 7, 11, 15, 19, 23, 27, 31, 35, 39, 43, 47, 51, 55, 59, 63]"
      ]
     },
     "execution_count": 9,
     "metadata": {},
     "output_type": "execute_result"
    }
   ],
   "source": [
    "import numpy as np\n",
    "\n",
    "results = []\n",
    "\n",
    "ran = list(range(1,total_nodos))\n",
    "ran.append(total_nodos)\n",
    "\n",
    "for i in ran:\n",
    "    if i == ran[-1]: #155050\n",
    "        req = requests.post('http://localhost:3005/sum-range',\n",
    "                            {'starting_number': str(lista[15]), 'ending_number': str(valor_final), 'final': 1})\n",
    "        results.append(int(req.text))\n",
    "    else:\n",
    "        req = requests.post('http://localhost:3005/sum-range',\n",
    "                            {'starting_number': str(lista[i-1]), 'ending_number': str(lista[i])})\n",
    "        results.append(int(req.text))\n",
    "results"
   ]
  },
  {
   "cell_type": "code",
   "execution_count": 6,
   "metadata": {},
   "outputs": [
    {
     "data": {
      "text/plain": [
       "16"
      ]
     },
     "execution_count": 6,
     "metadata": {},
     "output_type": "execute_result"
    }
   ],
   "source": [
    "total_nodos"
   ]
  },
  {
   "cell_type": "code",
   "execution_count": 19,
   "metadata": {},
   "outputs": [
    {
     "data": {
      "text/plain": [
       "'3002'"
      ]
     },
     "execution_count": 19,
     "metadata": {},
     "output_type": "execute_result"
    }
   ],
   "source": [
    "\"{}{}\".format('30',('2'.zfill(2)))"
   ]
  },
  {
   "cell_type": "code",
   "execution_count": 9,
   "metadata": {},
   "outputs": [
    {
     "name": "stdout",
     "output_type": "stream",
     "text": [
      "[3, 7, 11, 15, 19, 23, 27, 31, 35, 39, 43, 47, 51, 55, 59, 63]\n",
      "1\n",
      "+++++ 16\n",
      "----- [3, 7, 11, 15, 19, 23, 27, 31, 35, 39, 43, 47, 51, 55, 59, 63]\n",
      "[1, 3, 5, 7, 9, 11, 13, 15]\n",
      "[10, 26, 42, 58, 74, 90, 106, 122]\n",
      "1\n",
      "+++++ 8\n",
      "----- [10, 26, 42, 58, 74, 90, 106, 122]\n",
      "[1, 3, 5, 7]\n",
      "[36, 100, 164, 228]\n",
      "1\n",
      "+++++ 4\n",
      "----- [36, 100, 164, 228]\n",
      "[1, 3]\n",
      "[136, 392]\n",
      "1\n",
      "+++++ 2\n",
      "----- [136, 392]\n",
      "[1]\n",
      "[528]\n",
      "None\n"
     ]
    }
   ],
   "source": [
    "current_iteration = 0\n",
    "def iteration(number_list, current_nodes):\n",
    "    print(number_list)\n",
    "    if len(number_list) == 1:\n",
    "        return number_list\n",
    "    print(current_iteration + 1)\n",
    "    print(\"+++++\", current_nodes)\n",
    "    print(\"-----\", number_list)\n",
    "    current_layer = list(range(1,current_nodes,math.ceil(current_nodes/(len(number_list)/2))))\n",
    "    new_number_list = []\n",
    "    print(current_layer)\n",
    "    for i in current_layer:\n",
    "        #print(number_list[i-1], number_list[i])\n",
    "        req = requests.post('http://localhost:3000/sum',\n",
    "                                {'num1': str(number_list[i-1]), 'num2': str(number_list[i])})\n",
    "        new_number_list.append(int(req.text))\n",
    "    iteration(new_number_list, len(current_layer))\n",
    "\n",
    "final = iteration(results, total_nodos)\n",
    "print(final)"
   ]
  },
  {
   "cell_type": "code",
   "execution_count": 21,
   "metadata": {},
   "outputs": [
    {
     "name": "stderr",
     "output_type": "stream",
     "text": [
      "The system cannot find the file specified.\n",
      "The system cannot find the file specified.\n",
      "The system cannot find the file specified.\n",
      "The system cannot find the file specified.\n",
      "The system cannot find the file specified.\n",
      "The system cannot find the file specified.\n",
      "The system cannot find the file specified.\n",
      "The system cannot find the file specified.\n",
      "The system cannot find the file specified.\n",
      "The system cannot find the file specified.\n",
      "The system cannot find the file specified.\n",
      "The system cannot find the file specified.\n",
      "The system cannot find the file specified.\n",
      "The system cannot find the file specified.\n",
      "The system cannot find the file specified.\n",
      "The system cannot find the file specified.\n"
     ]
    }
   ],
   "source": [
    "for i in ran:\n",
    "    try:\n",
    "        !ls\n",
    "        #!PORT=30$str(i).zfill(2) nodemon node.js\n",
    "    except Exception as e:\n",
    "        print(str(e))\n",
    "        break"
   ]
  },
  {
   "cell_type": "code",
   "execution_count": null,
   "metadata": {},
   "outputs": [],
   "source": []
  }
 ],
 "metadata": {
  "interpreter": {
   "hash": "1d76bb280da093bf7260b592363b449b8d54408228f36ce25dff58a9f746dd21"
  },
  "kernelspec": {
   "display_name": "Python 3.9.1 64-bit",
   "language": "python",
   "name": "python3"
  },
  "language_info": {
   "codemirror_mode": {
    "name": "ipython",
    "version": 3
   },
   "file_extension": ".py",
   "mimetype": "text/x-python",
   "name": "python",
   "nbconvert_exporter": "python",
   "pygments_lexer": "ipython3",
   "version": "3.9.1"
  },
  "orig_nbformat": 4
 },
 "nbformat": 4,
 "nbformat_minor": 2
}
