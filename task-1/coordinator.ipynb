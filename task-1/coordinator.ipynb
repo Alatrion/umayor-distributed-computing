{
 "cells": [
  {
   "cell_type": "markdown",
   "metadata": {},
   "source": [
    "1) El usuario ingrese dos valores para sumar todos los números entre ellos en una GUI.\n",
    "2) La GUI se comunique con un coordinador centralizado que reparta la carga de trabajo entre unidades de cómputo secundarios.\n",
    "3) No se permite multiplicar, solo sumar, y cada suma debe demorar 1 segundo.\n",
    "4) Ni la GUI y ni el coordinador saben sumar.\n",
    "5) Requiere N computadores, uno para GUI, uno para el coordinador y uno para cada esclavo.\n",
    "6) Su lenguaje de programación debe ser capaz de soportar comunicación entre programas que se ejecutan en distintos computadores (TCP/IP, interfaz de sockets, etc)."
   ]
  },
  {
   "cell_type": "markdown",
   "metadata": {},
   "source": [
    "$$\n",
    "\\frac{\\text{Numero de cifras}}{\\text{Numero de nodos}} =\\text{Tiempo total}\n",
    "$$"
   ]
  },
  {
   "cell_type": "code",
   "execution_count": 66,
   "metadata": {},
   "outputs": [],
   "source": [
    "import requests\n",
    "import json\n",
    "import math"
   ]
  },
  {
   "cell_type": "code",
   "execution_count": 67,
   "metadata": {},
   "outputs": [
    {
     "name": "stdout",
     "output_type": "stream",
     "text": [
      "100\n"
     ]
    }
   ],
   "source": [
    "valor_inicial = 1\n",
    "valor_final = 1600\n",
    "total_valores = valor_final - valor_inicial\n",
    "total_nodos = 16\n",
    "steps = math.ceil(total_valores/total_nodos) # redondear hacia arriba\n",
    "print(steps)\n",
    "\n",
    "lista = list(range(valor_inicial, valor_final, steps))"
   ]
  },
  {
   "cell_type": "code",
   "execution_count": 50,
   "metadata": {},
   "outputs": [
    {
     "data": {
      "text/plain": [
       "[1,\n",
       " 101,\n",
       " 201,\n",
       " 301,\n",
       " 401,\n",
       " 501,\n",
       " 601,\n",
       " 701,\n",
       " 801,\n",
       " 901,\n",
       " 1001,\n",
       " 1101,\n",
       " 1201,\n",
       " 1301,\n",
       " 1401,\n",
       " 1501]"
      ]
     },
     "execution_count": 50,
     "metadata": {},
     "output_type": "execute_result"
    }
   ],
   "source": [
    "lista"
   ]
  },
  {
   "cell_type": "code",
   "execution_count": 16,
   "metadata": {},
   "outputs": [
    {
     "data": {
      "text/plain": [
       "'{\"starting_number\": 1501, \"ending_number\": 1600}'"
      ]
     },
     "execution_count": 16,
     "metadata": {},
     "output_type": "execute_result"
    }
   ],
   "source": [
    "json.dumps(test_payload)"
   ]
  },
  {
   "cell_type": "code",
   "execution_count": 84,
   "metadata": {},
   "outputs": [
    {
     "data": {
      "text/plain": [
       "[5050,\n",
       " 15050,\n",
       " 25050,\n",
       " 35050,\n",
       " 45050,\n",
       " 55050,\n",
       " 65050,\n",
       " 75050,\n",
       " 85050,\n",
       " 95050,\n",
       " 105050,\n",
       " 115050,\n",
       " 125050,\n",
       " 135050,\n",
       " 145050,\n",
       " 155050]"
      ]
     },
     "execution_count": 84,
     "metadata": {},
     "output_type": "execute_result"
    }
   ],
   "source": [
    "import numpy as np\n",
    "\n",
    "results = []\n",
    "\n",
    "ran = list(range(1,total_nodos))\n",
    "ran.append(total_nodos)\n",
    "\n",
    "for i in ran:\n",
    "    if i == ran[-1]: #155050\n",
    "        req = requests.post('http://localhost:3000/sum-range',\n",
    "                            {'starting_number': str(lista[15]), 'ending_number': str(valor_final), 'final': 1})\n",
    "        results.append(int(req.text))\n",
    "    else:\n",
    "        req = requests.post('http://localhost:3000/sum-range',\n",
    "                            {'starting_number': str(lista[i-1]), 'ending_number': str(lista[i])})\n",
    "        results.append(int(req.text))\n",
    "results"
   ]
  },
  {
   "cell_type": "code",
   "execution_count": 87,
   "metadata": {},
   "outputs": [
    {
     "name": "stdout",
     "output_type": "stream",
     "text": [
      "[1, 3, 5, 7, 9, 11, 13, 15]\n",
      "5050 15050\n",
      "25050 35050\n",
      "45050 55050\n",
      "65050 75050\n",
      "85050 95050\n",
      "105050 115050\n",
      "125050 135050\n",
      "145050 155050\n",
      "None\n"
     ]
    }
   ],
   "source": [
    "#total_second_layer_nodes = math.ceil((total_nodos))\n",
    "#current_layer = list(range(1,total_nodos,2))\n",
    "#current_layer.append(total_nodos)\n",
    "#print(second_layer)\n",
    "\n",
    "def iteration(number_list, total_nodos):\n",
    "    if len(number_list) == 1:\n",
    "        return number_list\n",
    "    current_layer = list(range(1,total_nodos,math.ceil(total_nodos/(len(number_list)/2))))\n",
    "    #current_layer.append(total_nodos)\n",
    "    new_number_list = []\n",
    "    print(current_layer)\n",
    "    for i in current_layer:\n",
    "        print(number_list[i-1], number_list[i])\n",
    "        req = requests.post('http://localhost:3000/sum',\n",
    "                                {'num1': str(number_list[i-1]), 'num2': str(number_list[i])})\n",
    "        new_number_list.append(int(req.text))\n",
    "\n",
    "final = iteration(results, total_nodos)\n",
    "print(final)"
   ]
  },
  {
   "cell_type": "code",
   "execution_count": null,
   "metadata": {},
   "outputs": [],
   "source": []
  }
 ],
 "metadata": {
  "interpreter": {
   "hash": "1d76bb280da093bf7260b592363b449b8d54408228f36ce25dff58a9f746dd21"
  },
  "kernelspec": {
   "display_name": "Python 3.9.1 64-bit",
   "language": "python",
   "name": "python3"
  },
  "language_info": {
   "codemirror_mode": {
    "name": "ipython",
    "version": 3
   },
   "file_extension": ".py",
   "mimetype": "text/x-python",
   "name": "python",
   "nbconvert_exporter": "python",
   "pygments_lexer": "ipython3",
   "version": "3.9.1"
  },
  "orig_nbformat": 4
 },
 "nbformat": 4,
 "nbformat_minor": 2
}
